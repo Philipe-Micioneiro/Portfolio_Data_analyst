{
 "cells": [
  {
   "cell_type": "code",
   "execution_count": 349,
   "id": "f3c53507",
   "metadata": {},
   "outputs": [],
   "source": [
    "import pandas as pd\n",
    "import numpy as np\n",
    "import matplotlib.pyplot as plt\n",
    "import plotly.express as px\n",
    "import time\n",
    "import os"
   ]
  },
  {
   "cell_type": "code",
   "execution_count": 350,
   "id": "488b02cc",
   "metadata": {},
   "outputs": [],
   "source": [
    "#catalogando os campos de acordo com a documentação da b3\n",
    "def read_files(path,name_file,year_date,type_file):\n",
    "    _file = f'{path}{name_file}{year_date}.{type_file}'\n",
    "    colspecs = [(2,10),\n",
    "               (10,12),\n",
    "                (12,24),\n",
    "                (27,39),\n",
    "                (56,69),\n",
    "                (69,82),\n",
    "                (82,95),\n",
    "                (108,121),\n",
    "                (152,170),\n",
    "                (170,188)\n",
    "               ]\n",
    "    names = ['data_pregao','codbdi','sigla_acao','nome_acao','preco_abertura','preco_max','preco_min','preco_fechamento','qtd_negocios','volume_negocio']\n",
    "    df = pd.read_fwf(_file,colspecs=colspecs,names=names,skiprows=1)\n",
    "    return df"
   ]
  },
  {
   "cell_type": "code",
   "execution_count": 351,
   "id": "de6a8f7f",
   "metadata": {},
   "outputs": [],
   "source": [
    "#filtrando dados por lote\n",
    "def filter_stocks(df):\n",
    "    \n",
    "    df = df[df['codbdi']==2]\n",
    "    df = df.drop(['codbdi'],axis=1)\n",
    "    \n",
    "    return df"
   ]
  },
  {
   "cell_type": "code",
   "execution_count": 352,
   "id": "bfe6111e",
   "metadata": {},
   "outputs": [],
   "source": [
    "#ajuste dos campos de data\n",
    "def parse_date(df):\n",
    "    \n",
    "\n",
    "    df['data_pregao'] = pd.to_datetime(df['data_pregao'],format = '%Y%m%d')\n",
    "    return df"
   ]
  },
  {
   "cell_type": "code",
   "execution_count": 353,
   "id": "e4541f02",
   "metadata": {},
   "outputs": [],
   "source": [
    "#ajuste dos campos numericos\n",
    "def parse_values(df):\n",
    "\n",
    "    df['preco_abertura'] = (df['preco_abertura']/100).astype (float)\n",
    "    df['preco_max'] = (df['preco_max']/100).astype (float)\n",
    "    df['preco_min'] = (df['preco_min']/100).astype (float)\n",
    "    df['preco_fechamento'] = (df['preco_fechamento']/100).astype (float)\n",
    "    return df\n"
   ]
  },
  {
   "cell_type": "code",
   "execution_count": 361,
   "id": "c6e7b328",
   "metadata": {},
   "outputs": [],
   "source": [
    "# juntando os arquivos\n",
    "#estou iterando por que caso precisarmos baixar varios arquivos de varios anos diferentes\n",
    "#apenas jogaria numa lista todos os anos e colocaria nas funções, então ele pegará os arquivos, tratará os dados e depois cuspir um arquivo só \n",
    "#o enumarate pega a lista e coloca o indice e o campo da informaçao, o i vai pro indice e o y o item da lista\n",
    "#como usamos o enumerate, esse if vai ver se o df da lista que passarei é o primeiro, se nao for,vai concatenar\n",
    "def concat_files(path,name_file,year_date,type_file,final_file):\n",
    "    \n",
    "    for i,y in enumerate(year_date): \n",
    "        df = read_files(path,name_file,y,type_file)\n",
    "        df = filter_stocks(df)\n",
    "        df = parse_date(df)\n",
    "        df = parse_values(df)\n",
    "        \n",
    "        if i == 0: \n",
    "            df_final = df\n",
    "        else:\n",
    "            df_final = pd.concat([df_final,df])\n",
    "            \n",
    "        df_final.to_csv(f'{path}//{final_file}',index=False)"
   ]
  },
  {
   "cell_type": "code",
   "execution_count": 362,
   "id": "7b619d74",
   "metadata": {},
   "outputs": [],
   "source": [
    "#executando programa de ETL\n",
    "\n",
    "year_date = ['2022','2023']\n",
    "\n",
    "path = f'C://Users//luis.bezerra.ext//Desktop//Scripts - Python//'\n",
    "\n",
    "name_file = 'COTAHIST_A'\n",
    "\n",
    "type_file = 'txt'\n",
    "\n",
    "final_file = 'all_bovespa3.csv'\n",
    "\n",
    "concat_files (path,name_file,year_date,type_file,final_file)"
   ]
  },
  {
   "cell_type": "code",
   "execution_count": null,
   "id": "bdd5486e",
   "metadata": {},
   "outputs": [],
   "source": []
  }
 ],
 "metadata": {
  "kernelspec": {
   "display_name": "Python 3 (ipykernel)",
   "language": "python",
   "name": "python3"
  },
  "language_info": {
   "codemirror_mode": {
    "name": "ipython",
    "version": 3
   },
   "file_extension": ".py",
   "mimetype": "text/x-python",
   "name": "python",
   "nbconvert_exporter": "python",
   "pygments_lexer": "ipython3",
   "version": "3.10.9"
  }
 },
 "nbformat": 4,
 "nbformat_minor": 5
}
